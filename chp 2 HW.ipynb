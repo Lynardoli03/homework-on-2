{
 "cells": [
  {
   "cell_type": "markdown",
   "id": "4e62e31e",
   "metadata": {},
   "source": [
    "# Chapter two \n",
    "Problem one, algorithim workbench"
   ]
  },
  {
   "cell_type": "code",
   "execution_count": 1,
   "id": "01e26cd0",
   "metadata": {},
   "outputs": [
    {
     "name": "stdout",
     "output_type": "stream",
     "text": [
      "what is your name?height\n"
     ]
    }
   ],
   "source": [
    "name=input(\"what is your name?\")\n",
    "telling the program to request a name before they continue"
   ]
  },
  {
   "cell_type": "markdown",
   "id": "f48e7564",
   "metadata": {},
   "source": [
    "## Programming exercises\n",
    "question number one, wants us to create information about a random person and have the code ask for it"
   ]
  },
  {
   "cell_type": "code",
   "execution_count": 8,
   "id": "0a7b41c1",
   "metadata": {
    "scrolled": true
   },
   "outputs": [
    {
     "name": "stdout",
     "output_type": "stream",
     "text": [
      "What is your name,Adress,City,State,Zip,Phone number, Major?Lebron james, 345 Joy road, Austin, Texas, 87865, 767-900-8970, Finance\n"
     ]
    }
   ],
   "source": [
    "studentinfo=input(\"What is your name,Adress,City,State,Zip,Phone number, Major?\")"
   ]
  },
  {
   "cell_type": "markdown",
   "id": "d34e1049",
   "metadata": {},
   "source": [
    "## Problem 13, programing exercise\n",
    "wants us to solve for an equation using the python language"
   ]
  },
  {
   "cell_type": "code",
   "execution_count": 9,
   "id": "a3919edb",
   "metadata": {},
   "outputs": [
    {
     "name": "stdout",
     "output_type": "stream",
     "text": [
      "What is the length of the row in feet?20\n"
     ]
    }
   ],
   "source": [
    "R=int(input(\"What is the length of the row in feet?\"))"
   ]
  },
  {
   "cell_type": "code",
   "execution_count": 10,
   "id": "0ca14b93",
   "metadata": {},
   "outputs": [
    {
     "name": "stdout",
     "output_type": "stream",
     "text": [
      "What is the amount of space in feet used by the end post assembly?30\n"
     ]
    }
   ],
   "source": [
    "E=int(input(\"What is the amount of space in feet used by the end post assembly?\"))"
   ]
  },
  {
   "cell_type": "code",
   "execution_count": 13,
   "id": "9de3a46f",
   "metadata": {},
   "outputs": [
    {
     "name": "stdout",
     "output_type": "stream",
     "text": [
      "The amount of space between the vines in feet?5\n"
     ]
    }
   ],
   "source": [
    "S=int(input(\"The amount of space between the vines in feet?\"))"
   ]
  },
  {
   "cell_type": "code",
   "execution_count": 15,
   "id": "9f33e390",
   "metadata": {},
   "outputs": [],
   "source": [
    "v=int((R-2*E)/S)"
   ]
  },
  {
   "cell_type": "code",
   "execution_count": 17,
   "id": "54a208e9",
   "metadata": {},
   "outputs": [
    {
     "name": "stdout",
     "output_type": "stream",
     "text": [
      "-8\n"
     ]
    }
   ],
   "source": [
    "print(v)"
   ]
  },
  {
   "cell_type": "code",
   "execution_count": null,
   "id": "d065677e",
   "metadata": {},
   "outputs": [],
   "source": []
  }
 ],
 "metadata": {
  "kernelspec": {
   "display_name": "Python 3 (ipykernel)",
   "language": "python",
   "name": "python3"
  },
  "language_info": {
   "codemirror_mode": {
    "name": "ipython",
    "version": 3
   },
   "file_extension": ".py",
   "mimetype": "text/x-python",
   "name": "python",
   "nbconvert_exporter": "python",
   "pygments_lexer": "ipython3",
   "version": "3.11.7"
  }
 },
 "nbformat": 4,
 "nbformat_minor": 5
}
